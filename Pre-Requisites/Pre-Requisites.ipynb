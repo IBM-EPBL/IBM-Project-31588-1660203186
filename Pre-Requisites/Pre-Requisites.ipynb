{
 "cells": [
  {
   "cell_type": "markdown",
   "metadata": {},
   "source": [
    "#### Tensorflow Ecosystem"
   ]
  },
  {
   "cell_type": "code",
   "execution_count": null,
   "metadata": {},
   "outputs": [],
   "source": [
    "pip install tensorboard==2.9.1\n",
    "pip install tensorboard-data-server==0.6.1\n",
    "pip install tensorboard-plugin-wit==1.8.1\n",
    "pip install tensorflow==2.9.2\n",
    "pip install tensorflow-datasets==4.6.0\n",
    "pip install tensorflow-estimator==2.9.0\n",
    "pip install tensorflow-gcs-config==2.9.1\n",
    "pip install tensorflow-hub==0.12.0\n",
    "pip install tensorflow-io-gcs-filesystem==0.27.0\n",
    "pip install tensorflow-metadata==1.10.0\n",
    "pip install tensorflow-probability==0.17.0"
   ]
  },
  {
   "cell_type": "markdown",
   "metadata": {},
   "source": [
    "#### Keras Ecosystem"
   ]
  },
  {
   "cell_type": "code",
   "execution_count": null,
   "metadata": {},
   "outputs": [],
   "source": [
    "pip install keras==2.9.0\n",
    "pip install Keras-Preprocessing==1.1.2\n",
    "pip install keras-vis==0.4.1"
   ]
  },
  {
   "cell_type": "markdown",
   "metadata": {},
   "source": [
    "#### OpenCV Ecosystem"
   ]
  },
  {
   "cell_type": "code",
   "execution_count": null,
   "metadata": {},
   "outputs": [],
   "source": [
    "pip install opencv-contrib-python==4.6.0.66\n",
    "pip install opencv-python==4.6.0.66\n",
    "pip install opencv-python-headless==4.6.0.66"
   ]
  },
  {
   "cell_type": "markdown",
   "metadata": {},
   "source": [
    "#### ImUtils"
   ]
  },
  {
   "cell_type": "code",
   "execution_count": null,
   "metadata": {},
   "outputs": [],
   "source": [
    "pip install imutils==0.5.4"
   ]
  },
  {
   "cell_type": "markdown",
   "metadata": {},
   "source": [
    "#### Flask"
   ]
  },
  {
   "cell_type": "code",
   "execution_count": null,
   "metadata": {},
   "outputs": [],
   "source": [
    "pip install Flask==1.1.4"
   ]
  }
 ],
 "metadata": {
  "kernelspec": {
   "display_name": "Python 3",
   "language": "python",
   "name": "python3"
  },
  "language_info": {
   "codemirror_mode": {
    "name": "ipython",
    "version": 3
   },
   "file_extension": ".py",
   "mimetype": "text/x-python",
   "name": "python",
   "nbconvert_exporter": "python",
   "pygments_lexer": "ipython3",
   "version": "3.8.13 (default, Oct  4 2022, 14:00:32) \n[GCC 9.4.0]"
  },
  "orig_nbformat": 4,
  "vscode": {
   "interpreter": {
    "hash": "9ac03a0a6051494cc606d484d27d20fce22fb7b4d169f583271e11d5ba46a56e"
   }
  }
 },
 "nbformat": 4,
 "nbformat_minor": 2
}
