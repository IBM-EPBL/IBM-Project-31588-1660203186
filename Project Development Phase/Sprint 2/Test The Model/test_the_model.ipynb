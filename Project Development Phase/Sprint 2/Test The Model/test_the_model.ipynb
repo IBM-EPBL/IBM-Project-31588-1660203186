{
  "cells": [
    {
      "cell_type": "markdown",
      "metadata": {
        "id": "Zd2gwf9LJNJS"
      },
      "source": [
        "# Test The Model"
      ]
    },
    {
      "cell_type": "markdown",
      "metadata": {
        "id": "yOS-MrmRJV4Y"
      },
      "source": [
        "Now we test the model by passing an image to get predictions. While test the model we should make sure that the test image should meet the target size of the model, dimensions need to meet, and should undergo rescaling before giving it to the model."
      ]
    },
    {
      "cell_type": "markdown",
      "metadata": {
        "id": "uJTecfmzloAC"
      },
      "source": [
        "#### Import The Packages And Load The Saved Model"
      ]
    },
    {
      "cell_type": "markdown",
      "metadata": {
        "id": "iJN0DqM7luPl"
      },
      "source": [
        "As a first step to start prediction we import packages that are used for loading the model and used to expand the dimension of the image. We use the Keras package to load the model which was saved when we built the model.\n"
      ]
    },
    {
      "cell_type": "code",
      "execution_count": 1,
      "metadata": {
        "id": "FA-Y7nyXlxm_"
      },
      "outputs": [
        {
          "name": "stderr",
          "output_type": "stream",
          "text": [
            "2022-11-16 02:05:37.174167: W tensorflow/stream_executor/platform/default/dso_loader.cc:64] Could not load dynamic library 'libcudart.so.11.0'; dlerror: libcudart.so.11.0: cannot open shared object file: No such file or directory\n",
            "2022-11-16 02:05:37.174212: I tensorflow/stream_executor/cuda/cudart_stub.cc:29] Ignore above cudart dlerror if you do not have a GPU set up on your machine.\n"
          ]
        }
      ],
      "source": [
        "from keras.models import load_model\n",
        "import numpy as np\n",
        "import cv2"
      ]
    },
    {
      "cell_type": "code",
      "execution_count": 2,
      "metadata": {},
      "outputs": [
        {
          "name": "stderr",
          "output_type": "stream",
          "text": [
            "2022-11-16 02:06:04.705448: W tensorflow/stream_executor/platform/default/dso_loader.cc:64] Could not load dynamic library 'libcuda.so.1'; dlerror: libcuda.so.1: cannot open shared object file: No such file or directory; LD_LIBRARY_PATH: /home/gitpod/anaconda3/envs/sandbox/lib/python3.7/site-packages/cv2/../../lib64:\n",
            "2022-11-16 02:06:04.705506: W tensorflow/stream_executor/cuda/cuda_driver.cc:269] failed call to cuInit: UNKNOWN ERROR (303)\n",
            "2022-11-16 02:06:04.705532: I tensorflow/stream_executor/cuda/cuda_diagnostics.cc:156] kernel driver does not appear to be running on this host (ibmepbl-ibmproject31588-haui0aye5ti): /proc/driver/nvidia/version does not exist\n",
            "2022-11-16 02:06:04.705797: I tensorflow/core/platform/cpu_feature_guard.cc:193] This TensorFlow binary is optimized with oneAPI Deep Neural Network Library (oneDNN) to use the following CPU instructions in performance-critical operations:  AVX2 FMA\n",
            "To enable them in other operations, rebuild TensorFlow with the appropriate compiler flags.\n"
          ]
        },
        {
          "name": "stdout",
          "output_type": "stream",
          "text": [
            "WARNING:tensorflow:No training configuration found in the save file, so the model was *not* compiled. Compile it manually.\n"
          ]
        }
      ],
      "source": [
        "model = load_model('/workspace/IBM-Project-31588-1660203186/Project Development Phase/Sprint 2/Model Building/aslpng1.h5')"
      ]
    },
    {
      "cell_type": "markdown",
      "metadata": {
        "id": "wJhegKjEmYyy"
      },
      "source": [
        "#### Load The Test Image, Pre-Process It And Predict"
      ]
    },
    {
      "cell_type": "markdown",
      "metadata": {
        "id": "GifqsIJamep0"
      },
      "source": [
        "Pre-processing the image includes converting the image to the array and resizing according to the model. Give the pre-processed image to the model to know to which class your model belongs to."
      ]
    },
    {
      "cell_type": "code",
      "execution_count": 3,
      "metadata": {
        "id": "f6d6yjEXmheS"
      },
      "outputs": [],
      "source": [
        "from keras.preprocessing import image\n",
        "from skimage.transform import resize\n",
        "def detect(frame):\n",
        "    img = resize(frame, (64,64,1))\n",
        "    img = np.expand_dims(img,axis=0)\n",
        "    if(np.max(img) > 1):\n",
        "      img = img / 255.0\n",
        "    prediction = model.predict(img)\n",
        "    print(prediction)\n",
        "    print(np.argmax(prediction))"
      ]
    },
    {
      "cell_type": "code",
      "execution_count": 4,
      "metadata": {
        "colab": {
          "base_uri": "https://localhost:8080/"
        },
        "id": "_ZLg04iOtGmT",
        "outputId": "ab908109-68b8-406e-a601-5a6395aa20d6"
      },
      "outputs": [
        {
          "name": "stdout",
          "output_type": "stream",
          "text": [
            "1/1 [==============================] - 0s 129ms/step\n",
            "[[9.6918517e-01 2.4428171e-08 3.7181690e-06 3.2775631e-06 2.9975561e-02\n",
            "  1.8491824e-05 7.1429805e-04 2.9652763e-06 9.6491225e-05]]\n",
            "0\n"
          ]
        }
      ],
      "source": [
        "frame = cv2.imread(r'/workspace/IBM-Project-31588-1660203186/Project Development Phase/Sprint 1/Data Collection/Create Train And Test Folders/Dataset/test_set/A/18.png')\n",
        "detect(frame)"
      ]
    },
    {
      "cell_type": "code",
      "execution_count": 5,
      "metadata": {
        "colab": {
          "base_uri": "https://localhost:8080/"
        },
        "id": "OEsx9E7EtknB",
        "outputId": "561362b5-f83e-49ae-eb1c-d9bef29b9154"
      },
      "outputs": [
        {
          "name": "stdout",
          "output_type": "stream",
          "text": [
            "1/1 [==============================] - 0s 21ms/step\n",
            "[[3.1332340e-07 9.9920338e-01 2.3043531e-04 9.1216052e-06 1.4184054e-04\n",
            "  4.0177978e-04 2.1048039e-09 2.1995534e-07 1.2936083e-05]]\n",
            "1\n"
          ]
        }
      ],
      "source": [
        "frame = cv2.imread(r'/workspace/IBM-Project-31588-1660203186/Project Development Phase/Sprint 1/Data Collection/Create Train And Test Folders/Dataset/test_set/B/39.png')\n",
        "detect(frame)"
      ]
    },
    {
      "cell_type": "code",
      "execution_count": 6,
      "metadata": {
        "colab": {
          "base_uri": "https://localhost:8080/"
        },
        "id": "uoubwlB-tyjW",
        "outputId": "5822d09e-9521-4db4-aa8c-d701c05879ad"
      },
      "outputs": [
        {
          "name": "stdout",
          "output_type": "stream",
          "text": [
            "1/1 [==============================] - 0s 24ms/step\n",
            "[[1.1515695e-11 3.3812651e-06 9.9997985e-01 2.1621302e-08 3.8618982e-06\n",
            "  7.2466582e-07 1.2119706e-05 2.5793515e-10 1.7843904e-09]]\n",
            "2\n"
          ]
        }
      ],
      "source": [
        "frame = cv2.imread(r'/workspace/IBM-Project-31588-1660203186/Project Development Phase/Sprint 1/Data Collection/Create Train And Test Folders/Dataset/test_set/C/45.png')\n",
        "detect(frame)"
      ]
    },
    {
      "cell_type": "code",
      "execution_count": 7,
      "metadata": {
        "colab": {
          "base_uri": "https://localhost:8080/"
        },
        "id": "xNAae4xVt2Qd",
        "outputId": "c0bdbd73-4bae-4cd0-b89c-b73fc5606766"
      },
      "outputs": [
        {
          "name": "stdout",
          "output_type": "stream",
          "text": [
            "1/1 [==============================] - 0s 23ms/step\n",
            "[[4.33482597e-07 7.04000325e-09 1.40384536e-11 9.99996901e-01\n",
            "  8.94628549e-09 7.62768934e-07 1.64963343e-09 8.96333141e-09\n",
            "  1.84969599e-06]]\n",
            "3\n"
          ]
        }
      ],
      "source": [
        "frame = cv2.imread(r'/workspace/IBM-Project-31588-1660203186/Project Development Phase/Sprint 1/Data Collection/Create Train And Test Folders/Dataset/test_set/D/81.png')\n",
        "detect(frame)"
      ]
    },
    {
      "cell_type": "code",
      "execution_count": 8,
      "metadata": {
        "colab": {
          "base_uri": "https://localhost:8080/"
        },
        "id": "qOCzu4E6t7w5",
        "outputId": "9477cd64-456c-4d05-c35e-c4ac31c021b3"
      },
      "outputs": [
        {
          "name": "stdout",
          "output_type": "stream",
          "text": [
            "1/1 [==============================] - 0s 27ms/step\n",
            "[[2.7940053e-04 1.0590738e-06 3.3764951e-05 2.2530453e-07 9.9855906e-01\n",
            "  4.1099527e-05 9.5941039e-05 2.7037024e-06 9.8673149e-04]]\n",
            "4\n"
          ]
        }
      ],
      "source": [
        "frame = cv2.imread(r'/workspace/IBM-Project-31588-1660203186/Project Development Phase/Sprint 1/Data Collection/Create Train And Test Folders/Dataset/test_set/E/65.png')\n",
        "detect(frame)"
      ]
    },
    {
      "cell_type": "code",
      "execution_count": 9,
      "metadata": {
        "colab": {
          "base_uri": "https://localhost:8080/"
        },
        "id": "S8Qg43pBt_Ep",
        "outputId": "0cd89ff4-9e69-4b88-cedc-f9433f170b2a"
      },
      "outputs": [
        {
          "name": "stdout",
          "output_type": "stream",
          "text": [
            "1/1 [==============================] - 0s 25ms/step\n",
            "[[2.4239187e-08 1.3935665e-10 8.7211988e-11 2.6092451e-02 2.1593431e-08\n",
            "  9.7339827e-01 3.7132014e-10 7.9279541e-11 5.0934561e-04]]\n",
            "5\n"
          ]
        }
      ],
      "source": [
        "frame = cv2.imread(r'/workspace/IBM-Project-31588-1660203186/Project Development Phase/Sprint 1/Data Collection/Create Train And Test Folders/Dataset/test_set/F/61.png')\n",
        "detect(frame)"
      ]
    },
    {
      "cell_type": "code",
      "execution_count": 10,
      "metadata": {
        "colab": {
          "base_uri": "https://localhost:8080/"
        },
        "id": "jukhB4xsuBw3",
        "outputId": "1f6bc8e5-87ee-49d2-c26a-48f89331ae27"
      },
      "outputs": [
        {
          "name": "stdout",
          "output_type": "stream",
          "text": [
            "1/1 [==============================] - 0s 23ms/step\n",
            "[[1.3232625e-06 2.2471697e-12 1.2695384e-08 6.4534089e-09 3.1317016e-09\n",
            "  4.8483823e-10 9.9184191e-01 8.1568016e-03 4.5916251e-10]]\n",
            "6\n"
          ]
        }
      ],
      "source": [
        "frame = cv2.imread(r'/workspace/IBM-Project-31588-1660203186/Project Development Phase/Sprint 1/Data Collection/Create Train And Test Folders/Dataset/test_set/G/84.png')\n",
        "detect(frame)"
      ]
    },
    {
      "cell_type": "code",
      "execution_count": 11,
      "metadata": {
        "colab": {
          "base_uri": "https://localhost:8080/"
        },
        "id": "RWAUvmaduFBn",
        "outputId": "47d5e7a5-3d6d-473b-f028-3e5f6215f424"
      },
      "outputs": [
        {
          "name": "stdout",
          "output_type": "stream",
          "text": [
            "1/1 [==============================] - 0s 27ms/step\n",
            "[[2.1847329e-07 2.4329071e-15 5.7344651e-13 1.7292313e-08 4.6255083e-12\n",
            "  1.3816133e-13 4.4880617e-06 9.9999535e-01 5.0972249e-10]]\n",
            "7\n"
          ]
        }
      ],
      "source": [
        "frame = cv2.imread(r'/workspace/IBM-Project-31588-1660203186/Project Development Phase/Sprint 1/Data Collection/Create Train And Test Folders/Dataset/test_set/H/106.png')\n",
        "detect(frame)"
      ]
    },
    {
      "cell_type": "code",
      "execution_count": 12,
      "metadata": {
        "colab": {
          "base_uri": "https://localhost:8080/"
        },
        "id": "nKMlRzEzuJ93",
        "outputId": "2c8b18da-39f9-466a-fd37-44b159d716fd"
      },
      "outputs": [
        {
          "name": "stdout",
          "output_type": "stream",
          "text": [
            "1/1 [==============================] - 0s 21ms/step\n",
            "[[1.2541459e-05 1.5302781e-05 8.8740620e-08 8.6743217e-03 1.6727074e-03\n",
            "  1.4042475e-03 8.7563840e-06 1.2217118e-06 9.8821080e-01]]\n",
            "8\n"
          ]
        }
      ],
      "source": [
        "frame = cv2.imread(r'/workspace/IBM-Project-31588-1660203186/Project Development Phase/Sprint 1/Data Collection/Create Train And Test Folders/Dataset/test_set/I/180.png')\n",
        "detect(frame)"
      ]
    }
  ],
  "metadata": {
    "colab": {
      "collapsed_sections": [],
      "provenance": []
    },
    "kernelspec": {
      "display_name": "sandbox",
      "language": "python",
      "name": "python3"
    },
    "language_info": {
      "codemirror_mode": {
        "name": "ipython",
        "version": 3
      },
      "file_extension": ".py",
      "mimetype": "text/x-python",
      "name": "python",
      "nbconvert_exporter": "python",
      "pygments_lexer": "ipython3",
      "version": "3.7.15"
    },
    "vscode": {
      "interpreter": {
        "hash": "1e35320bad2f69dde0eb0825a838dcf3ce83abd175e9019a9365d53954fa546c"
      }
    }
  },
  "nbformat": 4,
  "nbformat_minor": 0
}
