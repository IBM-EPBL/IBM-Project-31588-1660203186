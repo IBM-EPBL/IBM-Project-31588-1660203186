{
 "cells": [
  {
   "cell_type": "markdown",
   "metadata": {},
   "source": [
    "#### Tensorflow Ecosystem"
   ]
  },
  {
   "cell_type": "code",
   "execution_count": 2,
   "metadata": {},
   "outputs": [
    {
     "name": "stdout",
     "output_type": "stream",
     "text": [
      "Collecting tensorboard==2.9.1\n",
      "  Using cached tensorboard-2.9.1-py3-none-any.whl (5.8 MB)\n",
      "Collecting grpcio>=1.24.3\n",
      "  Using cached grpcio-1.50.0-cp37-cp37m-manylinux_2_17_x86_64.manylinux2014_x86_64.whl (4.7 MB)\n",
      "Collecting google-auth<3,>=1.6.3\n",
      "  Using cached google_auth-2.14.1-py2.py3-none-any.whl (175 kB)\n",
      "Collecting markdown>=2.6.8\n",
      "  Using cached Markdown-3.4.1-py3-none-any.whl (93 kB)\n",
      "Collecting requests<3,>=2.21.0\n",
      "  Using cached requests-2.28.1-py3-none-any.whl (62 kB)\n",
      "Collecting numpy>=1.12.0\n",
      "  Using cached numpy-1.21.6-cp37-cp37m-manylinux_2_12_x86_64.manylinux2010_x86_64.whl (15.7 MB)\n",
      "Collecting google-auth-oauthlib<0.5,>=0.4.1\n",
      "  Using cached google_auth_oauthlib-0.4.6-py2.py3-none-any.whl (18 kB)\n",
      "Collecting protobuf<3.20,>=3.9.2\n",
      "  Using cached protobuf-3.19.6-cp37-cp37m-manylinux_2_17_x86_64.manylinux2014_x86_64.whl (1.1 MB)\n",
      "Collecting tensorboard-data-server<0.7.0,>=0.6.0\n",
      "  Using cached tensorboard_data_server-0.6.1-py3-none-manylinux2010_x86_64.whl (4.9 MB)\n",
      "Collecting werkzeug>=1.0.1\n",
      "  Using cached Werkzeug-2.2.2-py3-none-any.whl (232 kB)\n",
      "Requirement already satisfied: setuptools>=41.0.0 in /home/gitpod/anaconda3/envs/sandbox/lib/python3.7/site-packages (from tensorboard==2.9.1) (65.5.0)\n",
      "Requirement already satisfied: wheel>=0.26 in /home/gitpod/anaconda3/envs/sandbox/lib/python3.7/site-packages (from tensorboard==2.9.1) (0.37.1)\n",
      "Collecting tensorboard-plugin-wit>=1.6.0\n",
      "  Using cached tensorboard_plugin_wit-1.8.1-py3-none-any.whl (781 kB)\n",
      "Collecting absl-py>=0.4\n",
      "  Using cached absl_py-1.3.0-py3-none-any.whl (124 kB)\n",
      "Collecting rsa<5,>=3.1.4\n",
      "  Using cached rsa-4.9-py3-none-any.whl (34 kB)\n",
      "Collecting pyasn1-modules>=0.2.1\n",
      "  Using cached pyasn1_modules-0.2.8-py2.py3-none-any.whl (155 kB)\n",
      "Collecting cachetools<6.0,>=2.0.0\n",
      "  Using cached cachetools-5.2.0-py3-none-any.whl (9.3 kB)\n",
      "Requirement already satisfied: six>=1.9.0 in /home/gitpod/anaconda3/envs/sandbox/lib/python3.7/site-packages (from google-auth<3,>=1.6.3->tensorboard==2.9.1) (1.16.0)\n",
      "Collecting requests-oauthlib>=0.7.0\n",
      "  Using cached requests_oauthlib-1.3.1-py2.py3-none-any.whl (23 kB)\n",
      "Collecting importlib-metadata>=4.4\n",
      "  Using cached importlib_metadata-5.0.0-py3-none-any.whl (21 kB)\n",
      "Collecting idna<4,>=2.5\n",
      "  Using cached idna-3.4-py3-none-any.whl (61 kB)\n",
      "Collecting charset-normalizer<3,>=2\n",
      "  Using cached charset_normalizer-2.1.1-py3-none-any.whl (39 kB)\n",
      "Requirement already satisfied: certifi>=2017.4.17 in /home/gitpod/anaconda3/envs/sandbox/lib/python3.7/site-packages (from requests<3,>=2.21.0->tensorboard==2.9.1) (2022.9.24)\n",
      "Collecting urllib3<1.27,>=1.21.1\n",
      "  Using cached urllib3-1.26.12-py2.py3-none-any.whl (140 kB)\n",
      "Collecting MarkupSafe>=2.1.1\n",
      "  Using cached MarkupSafe-2.1.1-cp37-cp37m-manylinux_2_17_x86_64.manylinux2014_x86_64.whl (25 kB)\n",
      "Collecting zipp>=0.5\n",
      "  Using cached zipp-3.10.0-py3-none-any.whl (6.2 kB)\n",
      "Collecting typing-extensions>=3.6.4\n",
      "  Using cached typing_extensions-4.4.0-py3-none-any.whl (26 kB)\n",
      "Collecting pyasn1<0.5.0,>=0.4.6\n",
      "  Using cached pyasn1-0.4.8-py2.py3-none-any.whl (77 kB)\n",
      "Collecting oauthlib>=3.0.0\n",
      "  Using cached oauthlib-3.2.2-py3-none-any.whl (151 kB)\n",
      "Installing collected packages: tensorboard-plugin-wit, pyasn1, zipp, urllib3, typing-extensions, tensorboard-data-server, rsa, pyasn1-modules, protobuf, oauthlib, numpy, MarkupSafe, idna, grpcio, charset-normalizer, cachetools, absl-py, werkzeug, requests, importlib-metadata, google-auth, requests-oauthlib, markdown, google-auth-oauthlib, tensorboard\n",
      "Successfully installed MarkupSafe-2.1.1 absl-py-1.3.0 cachetools-5.2.0 charset-normalizer-2.1.1 google-auth-2.14.1 google-auth-oauthlib-0.4.6 grpcio-1.50.0 idna-3.4 importlib-metadata-5.0.0 markdown-3.4.1 numpy-1.21.6 oauthlib-3.2.2 protobuf-3.19.6 pyasn1-0.4.8 pyasn1-modules-0.2.8 requests-2.28.1 requests-oauthlib-1.3.1 rsa-4.9 tensorboard-2.9.1 tensorboard-data-server-0.6.1 tensorboard-plugin-wit-1.8.1 typing-extensions-4.4.0 urllib3-1.26.12 werkzeug-2.2.2 zipp-3.10.0\n",
      "Requirement already satisfied: tensorboard-data-server==0.6.1 in /home/gitpod/anaconda3/envs/sandbox/lib/python3.7/site-packages (0.6.1)\n",
      "Requirement already satisfied: tensorboard-plugin-wit==1.8.1 in /home/gitpod/anaconda3/envs/sandbox/lib/python3.7/site-packages (1.8.1)\n",
      "Collecting tensorflow==2.9.2\n",
      "  Using cached tensorflow-2.9.2-cp37-cp37m-manylinux_2_17_x86_64.manylinux2014_x86_64.whl (511.8 MB)\n",
      "Collecting opt-einsum>=2.3.2\n",
      "  Using cached opt_einsum-3.3.0-py3-none-any.whl (65 kB)\n",
      "Requirement already satisfied: protobuf<3.20,>=3.9.2 in /home/gitpod/anaconda3/envs/sandbox/lib/python3.7/site-packages (from tensorflow==2.9.2) (3.19.6)\n",
      "Requirement already satisfied: grpcio<2.0,>=1.24.3 in /home/gitpod/anaconda3/envs/sandbox/lib/python3.7/site-packages (from tensorflow==2.9.2) (1.50.0)\n",
      "Collecting tensorflow-io-gcs-filesystem>=0.23.1\n",
      "  Using cached tensorflow_io_gcs_filesystem-0.27.0-cp37-cp37m-manylinux_2_12_x86_64.manylinux2010_x86_64.whl (2.4 MB)\n",
      "Requirement already satisfied: six>=1.12.0 in /home/gitpod/anaconda3/envs/sandbox/lib/python3.7/site-packages (from tensorflow==2.9.2) (1.16.0)\n",
      "Collecting keras-preprocessing>=1.1.1\n",
      "  Using cached Keras_Preprocessing-1.1.2-py2.py3-none-any.whl (42 kB)\n",
      "Collecting h5py>=2.9.0\n",
      "  Using cached h5py-3.7.0-cp37-cp37m-manylinux_2_12_x86_64.manylinux2010_x86_64.whl (4.1 MB)\n",
      "Collecting astunparse>=1.6.0\n",
      "  Using cached astunparse-1.6.3-py2.py3-none-any.whl (12 kB)\n",
      "Collecting flatbuffers<2,>=1.12\n",
      "  Using cached flatbuffers-1.12-py2.py3-none-any.whl (15 kB)\n",
      "Collecting wrapt>=1.11.0\n",
      "  Using cached wrapt-1.14.1-cp37-cp37m-manylinux_2_5_x86_64.manylinux1_x86_64.manylinux_2_17_x86_64.manylinux2014_x86_64.whl (75 kB)\n",
      "Collecting libclang>=13.0.0\n",
      "  Using cached libclang-14.0.6-py2.py3-none-manylinux2010_x86_64.whl (14.1 MB)\n",
      "Collecting termcolor>=1.1.0\n",
      "  Using cached termcolor-2.1.0-py3-none-any.whl (5.8 kB)\n",
      "Requirement already satisfied: numpy>=1.20 in /home/gitpod/anaconda3/envs/sandbox/lib/python3.7/site-packages (from tensorflow==2.9.2) (1.21.6)\n",
      "Requirement already satisfied: setuptools in /home/gitpod/anaconda3/envs/sandbox/lib/python3.7/site-packages (from tensorflow==2.9.2) (65.5.0)\n",
      "Collecting google-pasta>=0.1.1\n",
      "  Using cached google_pasta-0.2.0-py3-none-any.whl (57 kB)\n",
      "Collecting keras<2.10.0,>=2.9.0rc0\n",
      "  Using cached keras-2.9.0-py2.py3-none-any.whl (1.6 MB)\n",
      "Requirement already satisfied: absl-py>=1.0.0 in /home/gitpod/anaconda3/envs/sandbox/lib/python3.7/site-packages (from tensorflow==2.9.2) (1.3.0)\n",
      "Requirement already satisfied: tensorboard<2.10,>=2.9 in /home/gitpod/anaconda3/envs/sandbox/lib/python3.7/site-packages (from tensorflow==2.9.2) (2.9.1)\n",
      "Collecting tensorflow-estimator<2.10.0,>=2.9.0rc0\n",
      "  Using cached tensorflow_estimator-2.9.0-py2.py3-none-any.whl (438 kB)\n",
      "Requirement already satisfied: typing-extensions>=3.6.6 in /home/gitpod/anaconda3/envs/sandbox/lib/python3.7/site-packages (from tensorflow==2.9.2) (4.4.0)\n",
      "Requirement already satisfied: packaging in /home/gitpod/anaconda3/envs/sandbox/lib/python3.7/site-packages (from tensorflow==2.9.2) (21.3)\n",
      "Collecting gast<=0.4.0,>=0.2.1\n",
      "  Using cached gast-0.4.0-py3-none-any.whl (9.8 kB)\n",
      "Requirement already satisfied: wheel<1.0,>=0.23.0 in /home/gitpod/anaconda3/envs/sandbox/lib/python3.7/site-packages (from astunparse>=1.6.0->tensorflow==2.9.2) (0.37.1)\n",
      "Requirement already satisfied: google-auth<3,>=1.6.3 in /home/gitpod/anaconda3/envs/sandbox/lib/python3.7/site-packages (from tensorboard<2.10,>=2.9->tensorflow==2.9.2) (2.14.1)\n",
      "Requirement already satisfied: requests<3,>=2.21.0 in /home/gitpod/anaconda3/envs/sandbox/lib/python3.7/site-packages (from tensorboard<2.10,>=2.9->tensorflow==2.9.2) (2.28.1)\n",
      "Requirement already satisfied: tensorboard-plugin-wit>=1.6.0 in /home/gitpod/anaconda3/envs/sandbox/lib/python3.7/site-packages (from tensorboard<2.10,>=2.9->tensorflow==2.9.2) (1.8.1)\n",
      "Requirement already satisfied: markdown>=2.6.8 in /home/gitpod/anaconda3/envs/sandbox/lib/python3.7/site-packages (from tensorboard<2.10,>=2.9->tensorflow==2.9.2) (3.4.1)\n",
      "Requirement already satisfied: werkzeug>=1.0.1 in /home/gitpod/anaconda3/envs/sandbox/lib/python3.7/site-packages (from tensorboard<2.10,>=2.9->tensorflow==2.9.2) (2.2.2)\n",
      "Requirement already satisfied: tensorboard-data-server<0.7.0,>=0.6.0 in /home/gitpod/anaconda3/envs/sandbox/lib/python3.7/site-packages (from tensorboard<2.10,>=2.9->tensorflow==2.9.2) (0.6.1)\n",
      "Requirement already satisfied: google-auth-oauthlib<0.5,>=0.4.1 in /home/gitpod/anaconda3/envs/sandbox/lib/python3.7/site-packages (from tensorboard<2.10,>=2.9->tensorflow==2.9.2) (0.4.6)\n",
      "Requirement already satisfied: pyparsing!=3.0.5,>=2.0.2 in /home/gitpod/anaconda3/envs/sandbox/lib/python3.7/site-packages (from packaging->tensorflow==2.9.2) (3.0.9)\n",
      "Requirement already satisfied: pyasn1-modules>=0.2.1 in /home/gitpod/anaconda3/envs/sandbox/lib/python3.7/site-packages (from google-auth<3,>=1.6.3->tensorboard<2.10,>=2.9->tensorflow==2.9.2) (0.2.8)\n",
      "Requirement already satisfied: cachetools<6.0,>=2.0.0 in /home/gitpod/anaconda3/envs/sandbox/lib/python3.7/site-packages (from google-auth<3,>=1.6.3->tensorboard<2.10,>=2.9->tensorflow==2.9.2) (5.2.0)\n",
      "Requirement already satisfied: rsa<5,>=3.1.4 in /home/gitpod/anaconda3/envs/sandbox/lib/python3.7/site-packages (from google-auth<3,>=1.6.3->tensorboard<2.10,>=2.9->tensorflow==2.9.2) (4.9)\n",
      "Requirement already satisfied: requests-oauthlib>=0.7.0 in /home/gitpod/anaconda3/envs/sandbox/lib/python3.7/site-packages (from google-auth-oauthlib<0.5,>=0.4.1->tensorboard<2.10,>=2.9->tensorflow==2.9.2) (1.3.1)\n",
      "Requirement already satisfied: importlib-metadata>=4.4 in /home/gitpod/anaconda3/envs/sandbox/lib/python3.7/site-packages (from markdown>=2.6.8->tensorboard<2.10,>=2.9->tensorflow==2.9.2) (5.0.0)\n",
      "Requirement already satisfied: urllib3<1.27,>=1.21.1 in /home/gitpod/anaconda3/envs/sandbox/lib/python3.7/site-packages (from requests<3,>=2.21.0->tensorboard<2.10,>=2.9->tensorflow==2.9.2) (1.26.12)\n",
      "Requirement already satisfied: charset-normalizer<3,>=2 in /home/gitpod/anaconda3/envs/sandbox/lib/python3.7/site-packages (from requests<3,>=2.21.0->tensorboard<2.10,>=2.9->tensorflow==2.9.2) (2.1.1)\n",
      "Requirement already satisfied: certifi>=2017.4.17 in /home/gitpod/anaconda3/envs/sandbox/lib/python3.7/site-packages (from requests<3,>=2.21.0->tensorboard<2.10,>=2.9->tensorflow==2.9.2) (2022.9.24)\n",
      "Requirement already satisfied: idna<4,>=2.5 in /home/gitpod/anaconda3/envs/sandbox/lib/python3.7/site-packages (from requests<3,>=2.21.0->tensorboard<2.10,>=2.9->tensorflow==2.9.2) (3.4)\n",
      "Requirement already satisfied: MarkupSafe>=2.1.1 in /home/gitpod/anaconda3/envs/sandbox/lib/python3.7/site-packages (from werkzeug>=1.0.1->tensorboard<2.10,>=2.9->tensorflow==2.9.2) (2.1.1)\n",
      "Requirement already satisfied: zipp>=0.5 in /home/gitpod/anaconda3/envs/sandbox/lib/python3.7/site-packages (from importlib-metadata>=4.4->markdown>=2.6.8->tensorboard<2.10,>=2.9->tensorflow==2.9.2) (3.10.0)\n",
      "Requirement already satisfied: pyasn1<0.5.0,>=0.4.6 in /home/gitpod/anaconda3/envs/sandbox/lib/python3.7/site-packages (from pyasn1-modules>=0.2.1->google-auth<3,>=1.6.3->tensorboard<2.10,>=2.9->tensorflow==2.9.2) (0.4.8)\n",
      "Requirement already satisfied: oauthlib>=3.0.0 in /home/gitpod/anaconda3/envs/sandbox/lib/python3.7/site-packages (from requests-oauthlib>=0.7.0->google-auth-oauthlib<0.5,>=0.4.1->tensorboard<2.10,>=2.9->tensorflow==2.9.2) (3.2.2)\n",
      "Installing collected packages: libclang, keras, flatbuffers, wrapt, termcolor, tensorflow-io-gcs-filesystem, tensorflow-estimator, opt-einsum, keras-preprocessing, h5py, google-pasta, gast, astunparse, tensorflow\n",
      "Successfully installed astunparse-1.6.3 flatbuffers-1.12 gast-0.4.0 google-pasta-0.2.0 h5py-3.7.0 keras-2.9.0 keras-preprocessing-1.1.2 libclang-14.0.6 opt-einsum-3.3.0 tensorflow-2.9.2 tensorflow-estimator-2.9.0 tensorflow-io-gcs-filesystem-0.27.0 termcolor-2.1.0 wrapt-1.14.1\n",
      "Collecting tensorflow-datasets==4.6.0\n",
      "  Using cached tensorflow_datasets-4.6.0-py3-none-any.whl (4.3 MB)\n",
      "Requirement already satisfied: protobuf>=3.12.2 in /home/gitpod/anaconda3/envs/sandbox/lib/python3.7/site-packages (from tensorflow-datasets==4.6.0) (3.19.6)\n",
      "Collecting tqdm\n",
      "  Using cached tqdm-4.64.1-py2.py3-none-any.whl (78 kB)\n",
      "Collecting tensorflow-metadata\n",
      "  Using cached tensorflow_metadata-1.11.0-py3-none-any.whl (52 kB)\n",
      "Collecting importlib-resources\n",
      "  Using cached importlib_resources-5.10.0-py3-none-any.whl (34 kB)\n",
      "Collecting dill\n",
      "  Using cached dill-0.3.6-py3-none-any.whl (110 kB)\n",
      "Collecting etils[epath]\n",
      "  Using cached etils-0.9.0-py3-none-any.whl (140 kB)\n",
      "Requirement already satisfied: absl-py in /home/gitpod/anaconda3/envs/sandbox/lib/python3.7/site-packages (from tensorflow-datasets==4.6.0) (1.3.0)\n",
      "Collecting toml\n",
      "  Using cached toml-0.10.2-py2.py3-none-any.whl (16 kB)\n",
      "Requirement already satisfied: requests>=2.19.0 in /home/gitpod/anaconda3/envs/sandbox/lib/python3.7/site-packages (from tensorflow-datasets==4.6.0) (2.28.1)\n",
      "Requirement already satisfied: termcolor in /home/gitpod/anaconda3/envs/sandbox/lib/python3.7/site-packages (from tensorflow-datasets==4.6.0) (2.1.0)\n",
      "Requirement already satisfied: six in /home/gitpod/anaconda3/envs/sandbox/lib/python3.7/site-packages (from tensorflow-datasets==4.6.0) (1.16.0)\n",
      "Requirement already satisfied: typing-extensions in /home/gitpod/anaconda3/envs/sandbox/lib/python3.7/site-packages (from tensorflow-datasets==4.6.0) (4.4.0)\n",
      "Requirement already satisfied: numpy in /home/gitpod/anaconda3/envs/sandbox/lib/python3.7/site-packages (from tensorflow-datasets==4.6.0) (1.21.6)\n",
      "Collecting promise\n",
      "  Using cached promise-2.3-py3-none-any.whl\n",
      "Requirement already satisfied: charset-normalizer<3,>=2 in /home/gitpod/anaconda3/envs/sandbox/lib/python3.7/site-packages (from requests>=2.19.0->tensorflow-datasets==4.6.0) (2.1.1)\n",
      "Requirement already satisfied: idna<4,>=2.5 in /home/gitpod/anaconda3/envs/sandbox/lib/python3.7/site-packages (from requests>=2.19.0->tensorflow-datasets==4.6.0) (3.4)\n",
      "Requirement already satisfied: urllib3<1.27,>=1.21.1 in /home/gitpod/anaconda3/envs/sandbox/lib/python3.7/site-packages (from requests>=2.19.0->tensorflow-datasets==4.6.0) (1.26.12)\n",
      "Requirement already satisfied: certifi>=2017.4.17 in /home/gitpod/anaconda3/envs/sandbox/lib/python3.7/site-packages (from requests>=2.19.0->tensorflow-datasets==4.6.0) (2022.9.24)\n",
      "Requirement already satisfied: zipp in /home/gitpod/anaconda3/envs/sandbox/lib/python3.7/site-packages (from etils[epath]->tensorflow-datasets==4.6.0) (3.10.0)\n",
      "Collecting googleapis-common-protos<2,>=1.52.0\n",
      "  Using cached googleapis_common_protos-1.57.0-py2.py3-none-any.whl (217 kB)\n",
      "Installing collected packages: tqdm, toml, promise, importlib-resources, googleapis-common-protos, etils, dill, tensorflow-metadata, tensorflow-datasets\n",
      "Successfully installed dill-0.3.6 etils-0.9.0 googleapis-common-protos-1.57.0 importlib-resources-5.10.0 promise-2.3 tensorflow-datasets-4.6.0 tensorflow-metadata-1.11.0 toml-0.10.2 tqdm-4.64.1\n",
      "Requirement already satisfied: tensorflow-estimator==2.9.0 in /home/gitpod/anaconda3/envs/sandbox/lib/python3.7/site-packages (2.9.0)\n",
      "Collecting tensorflow-gcs-config==2.9.1\n",
      "  Using cached tensorflow_gcs_config-2.9.1-py3-none-any.whl (346 kB)\n",
      "Installing collected packages: tensorflow-gcs-config\n",
      "Successfully installed tensorflow-gcs-config-2.9.1\n",
      "Collecting tensorflow-hub==0.12.0\n",
      "  Using cached tensorflow_hub-0.12.0-py2.py3-none-any.whl (108 kB)\n",
      "Requirement already satisfied: protobuf>=3.8.0 in /home/gitpod/anaconda3/envs/sandbox/lib/python3.7/site-packages (from tensorflow-hub==0.12.0) (3.19.6)\n",
      "Requirement already satisfied: numpy>=1.12.0 in /home/gitpod/anaconda3/envs/sandbox/lib/python3.7/site-packages (from tensorflow-hub==0.12.0) (1.21.6)\n",
      "Installing collected packages: tensorflow-hub\n",
      "Successfully installed tensorflow-hub-0.12.0\n",
      "Requirement already satisfied: tensorflow-io-gcs-filesystem==0.27.0 in /home/gitpod/anaconda3/envs/sandbox/lib/python3.7/site-packages (0.27.0)\n",
      "Collecting tensorflow-metadata==1.10.0\n",
      "  Using cached tensorflow_metadata-1.10.0-py3-none-any.whl (50 kB)\n",
      "Requirement already satisfied: absl-py<2.0.0,>=0.9 in /home/gitpod/anaconda3/envs/sandbox/lib/python3.7/site-packages (from tensorflow-metadata==1.10.0) (1.3.0)\n",
      "Requirement already satisfied: googleapis-common-protos<2,>=1.52.0 in /home/gitpod/anaconda3/envs/sandbox/lib/python3.7/site-packages (from tensorflow-metadata==1.10.0) (1.57.0)\n",
      "Requirement already satisfied: protobuf<4,>=3.13 in /home/gitpod/anaconda3/envs/sandbox/lib/python3.7/site-packages (from tensorflow-metadata==1.10.0) (3.19.6)\n",
      "Installing collected packages: tensorflow-metadata\n",
      "  Attempting uninstall: tensorflow-metadata\n",
      "    Found existing installation: tensorflow-metadata 1.11.0\n",
      "    Uninstalling tensorflow-metadata-1.11.0:\n",
      "      Successfully uninstalled tensorflow-metadata-1.11.0\n",
      "Successfully installed tensorflow-metadata-1.10.0\n",
      "Collecting tensorflow-probability==0.17.0\n",
      "  Using cached tensorflow_probability-0.17.0-py2.py3-none-any.whl (6.5 MB)\n",
      "Requirement already satisfied: six>=1.10.0 in /home/gitpod/anaconda3/envs/sandbox/lib/python3.7/site-packages (from tensorflow-probability==0.17.0) (1.16.0)\n",
      "Requirement already satisfied: decorator in /home/gitpod/anaconda3/envs/sandbox/lib/python3.7/site-packages (from tensorflow-probability==0.17.0) (5.1.1)\n",
      "Requirement already satisfied: numpy>=1.13.3 in /home/gitpod/anaconda3/envs/sandbox/lib/python3.7/site-packages (from tensorflow-probability==0.17.0) (1.21.6)\n",
      "Requirement already satisfied: gast>=0.3.2 in /home/gitpod/anaconda3/envs/sandbox/lib/python3.7/site-packages (from tensorflow-probability==0.17.0) (0.4.0)\n",
      "Requirement already satisfied: absl-py in /home/gitpod/anaconda3/envs/sandbox/lib/python3.7/site-packages (from tensorflow-probability==0.17.0) (1.3.0)\n",
      "Collecting dm-tree\n",
      "  Using cached dm_tree-0.1.7-cp37-cp37m-manylinux_2_12_x86_64.manylinux2010_x86_64.whl (143 kB)\n",
      "Collecting cloudpickle>=1.3\n",
      "  Using cached cloudpickle-2.2.0-py3-none-any.whl (25 kB)\n",
      "Installing collected packages: dm-tree, cloudpickle, tensorflow-probability\n",
      "Successfully installed cloudpickle-2.2.0 dm-tree-0.1.7 tensorflow-probability-0.17.0\n"
     ]
    }
   ],
   "source": [
    "!pip install tensorboard==2.9.1\n",
    "!pip install tensorboard-data-server==0.6.1\n",
    "!pip install tensorboard-plugin-wit==1.8.1\n",
    "!pip install tensorflow==2.9.2\n",
    "!pip install tensorflow-datasets==4.6.0\n",
    "!pip install tensorflow-estimator==2.9.0\n",
    "!pip install tensorflow-gcs-config==2.9.1\n",
    "!pip install tensorflow-hub==0.12.0\n",
    "!pip install tensorflow-io-gcs-filesystem==0.27.0\n",
    "!pip install tensorflow-metadata==1.10.0\n",
    "!pip install tensorflow-probability==0.17.0"
   ]
  },
  {
   "cell_type": "markdown",
   "metadata": {},
   "source": [
    "#### Keras Ecosystem"
   ]
  },
  {
   "cell_type": "code",
   "execution_count": 3,
   "metadata": {},
   "outputs": [
    {
     "name": "stdout",
     "output_type": "stream",
     "text": [
      "Requirement already satisfied: keras==2.9.0 in /home/gitpod/anaconda3/envs/sandbox/lib/python3.7/site-packages (2.9.0)\n",
      "Requirement already satisfied: Keras-Preprocessing==1.1.2 in /home/gitpod/anaconda3/envs/sandbox/lib/python3.7/site-packages (1.1.2)\n",
      "Requirement already satisfied: six>=1.9.0 in /home/gitpod/anaconda3/envs/sandbox/lib/python3.7/site-packages (from Keras-Preprocessing==1.1.2) (1.16.0)\n",
      "Requirement already satisfied: numpy>=1.9.1 in /home/gitpod/anaconda3/envs/sandbox/lib/python3.7/site-packages (from Keras-Preprocessing==1.1.2) (1.21.6)\n",
      "Collecting keras-vis==0.4.1\n",
      "  Using cached keras_vis-0.4.1-py2.py3-none-any.whl (30 kB)\n",
      "Collecting matplotlib\n",
      "  Using cached matplotlib-3.5.3-cp37-cp37m-manylinux_2_5_x86_64.manylinux1_x86_64.whl (11.2 MB)\n",
      "Collecting scikit-image\n",
      "  Using cached scikit_image-0.19.3-cp37-cp37m-manylinux_2_12_x86_64.manylinux2010_x86_64.whl (13.5 MB)\n",
      "Requirement already satisfied: h5py in /home/gitpod/anaconda3/envs/sandbox/lib/python3.7/site-packages (from keras-vis==0.4.1) (3.7.0)\n",
      "Requirement already satisfied: keras in /home/gitpod/anaconda3/envs/sandbox/lib/python3.7/site-packages (from keras-vis==0.4.1) (2.9.0)\n",
      "Requirement already satisfied: six in /home/gitpod/anaconda3/envs/sandbox/lib/python3.7/site-packages (from keras-vis==0.4.1) (1.16.0)\n",
      "Requirement already satisfied: numpy>=1.14.5 in /home/gitpod/anaconda3/envs/sandbox/lib/python3.7/site-packages (from h5py->keras-vis==0.4.1) (1.21.6)\n",
      "Collecting fonttools>=4.22.0\n",
      "  Using cached fonttools-4.38.0-py3-none-any.whl (965 kB)\n",
      "Requirement already satisfied: pyparsing>=2.2.1 in /home/gitpod/anaconda3/envs/sandbox/lib/python3.7/site-packages (from matplotlib->keras-vis==0.4.1) (3.0.9)\n",
      "Requirement already satisfied: python-dateutil>=2.7 in /home/gitpod/anaconda3/envs/sandbox/lib/python3.7/site-packages (from matplotlib->keras-vis==0.4.1) (2.8.2)\n",
      "Collecting cycler>=0.10\n",
      "  Using cached cycler-0.11.0-py3-none-any.whl (6.4 kB)\n",
      "Collecting kiwisolver>=1.0.1\n",
      "  Using cached kiwisolver-1.4.4-cp37-cp37m-manylinux_2_5_x86_64.manylinux1_x86_64.whl (1.1 MB)\n",
      "Collecting pillow>=6.2.0\n",
      "  Using cached Pillow-9.3.0-cp37-cp37m-manylinux_2_28_x86_64.whl (3.3 MB)\n",
      "Requirement already satisfied: packaging>=20.0 in /home/gitpod/anaconda3/envs/sandbox/lib/python3.7/site-packages (from matplotlib->keras-vis==0.4.1) (21.3)\n",
      "Collecting tifffile>=2019.7.26\n",
      "  Using cached tifffile-2021.11.2-py3-none-any.whl (178 kB)\n",
      "Collecting imageio>=2.4.1\n",
      "  Using cached imageio-2.22.4-py3-none-any.whl (3.4 MB)\n",
      "Collecting PyWavelets>=1.1.1\n",
      "  Using cached PyWavelets-1.3.0-cp37-cp37m-manylinux_2_5_x86_64.manylinux1_x86_64.manylinux_2_12_x86_64.manylinux2010_x86_64.whl (6.4 MB)\n",
      "Collecting scipy>=1.4.1\n",
      "  Using cached scipy-1.7.3-cp37-cp37m-manylinux_2_12_x86_64.manylinux2010_x86_64.whl (38.1 MB)\n",
      "Collecting networkx>=2.2\n",
      "  Using cached networkx-2.6.3-py3-none-any.whl (1.9 MB)\n",
      "Requirement already satisfied: typing-extensions in /home/gitpod/anaconda3/envs/sandbox/lib/python3.7/site-packages (from kiwisolver>=1.0.1->matplotlib->keras-vis==0.4.1) (4.4.0)\n",
      "Installing collected packages: tifffile, scipy, PyWavelets, pillow, networkx, kiwisolver, fonttools, cycler, matplotlib, imageio, scikit-image, keras-vis\n",
      "Successfully installed PyWavelets-1.3.0 cycler-0.11.0 fonttools-4.38.0 imageio-2.22.4 keras-vis-0.4.1 kiwisolver-1.4.4 matplotlib-3.5.3 networkx-2.6.3 pillow-9.3.0 scikit-image-0.19.3 scipy-1.7.3 tifffile-2021.11.2\n"
     ]
    }
   ],
   "source": [
    "!pip install keras==2.9.0\n",
    "!pip install Keras-Preprocessing==1.1.2\n",
    "!pip install keras-vis==0.4.1"
   ]
  },
  {
   "cell_type": "markdown",
   "metadata": {},
   "source": [
    "#### OpenCV Ecosystem"
   ]
  },
  {
   "cell_type": "code",
   "execution_count": 4,
   "metadata": {},
   "outputs": [
    {
     "name": "stdout",
     "output_type": "stream",
     "text": [
      "Collecting opencv-contrib-python==4.6.0.66\n",
      "  Using cached opencv_contrib_python-4.6.0.66-cp36-abi3-manylinux_2_17_x86_64.manylinux2014_x86_64.whl (67.1 MB)\n",
      "Requirement already satisfied: numpy>=1.14.5 in /home/gitpod/anaconda3/envs/sandbox/lib/python3.7/site-packages (from opencv-contrib-python==4.6.0.66) (1.21.6)\n",
      "Installing collected packages: opencv-contrib-python\n",
      "Successfully installed opencv-contrib-python-4.6.0.66\n",
      "Collecting opencv-python==4.6.0.66\n",
      "  Using cached opencv_python-4.6.0.66-cp36-abi3-manylinux_2_17_x86_64.manylinux2014_x86_64.whl (60.9 MB)\n",
      "Requirement already satisfied: numpy>=1.14.5 in /home/gitpod/anaconda3/envs/sandbox/lib/python3.7/site-packages (from opencv-python==4.6.0.66) (1.21.6)\n",
      "Installing collected packages: opencv-python\n",
      "Successfully installed opencv-python-4.6.0.66\n",
      "Collecting opencv-python-headless==4.6.0.66\n",
      "  Using cached opencv_python_headless-4.6.0.66-cp36-abi3-manylinux_2_17_x86_64.manylinux2014_x86_64.whl (48.3 MB)\n",
      "Requirement already satisfied: numpy>=1.14.5 in /home/gitpod/anaconda3/envs/sandbox/lib/python3.7/site-packages (from opencv-python-headless==4.6.0.66) (1.21.6)\n",
      "Installing collected packages: opencv-python-headless\n",
      "Successfully installed opencv-python-headless-4.6.0.66\n"
     ]
    }
   ],
   "source": [
    "!pip install opencv-contrib-python==4.6.0.66\n",
    "!pip install opencv-python==4.6.0.66\n",
    "!pip install opencv-python-headless==4.6.0.66"
   ]
  },
  {
   "cell_type": "markdown",
   "metadata": {},
   "source": [
    "#### ImUtils"
   ]
  },
  {
   "cell_type": "code",
   "execution_count": 5,
   "metadata": {},
   "outputs": [
    {
     "name": "stdout",
     "output_type": "stream",
     "text": [
      "Collecting imutils==0.5.4\n",
      "  Using cached imutils-0.5.4-py3-none-any.whl\n",
      "Installing collected packages: imutils\n",
      "Successfully installed imutils-0.5.4\n"
     ]
    }
   ],
   "source": [
    "!pip install imutils==0.5.4"
   ]
  },
  {
   "cell_type": "markdown",
   "metadata": {},
   "source": [
    "#### Flask"
   ]
  },
  {
   "cell_type": "code",
   "execution_count": 6,
   "metadata": {},
   "outputs": [
    {
     "name": "stdout",
     "output_type": "stream",
     "text": [
      "Collecting Flask==1.1.4\n",
      "  Using cached Flask-1.1.4-py2.py3-none-any.whl (94 kB)\n",
      "Collecting Werkzeug<2.0,>=0.15\n",
      "  Using cached Werkzeug-1.0.1-py2.py3-none-any.whl (298 kB)\n",
      "Collecting Jinja2<3.0,>=2.10.1\n",
      "  Using cached Jinja2-2.11.3-py2.py3-none-any.whl (125 kB)\n",
      "Collecting click<8.0,>=5.1\n",
      "  Using cached click-7.1.2-py2.py3-none-any.whl (82 kB)\n",
      "Collecting itsdangerous<2.0,>=0.24\n",
      "  Using cached itsdangerous-1.1.0-py2.py3-none-any.whl (16 kB)\n",
      "Requirement already satisfied: MarkupSafe>=0.23 in /home/gitpod/anaconda3/envs/sandbox/lib/python3.7/site-packages (from Jinja2<3.0,>=2.10.1->Flask==1.1.4) (2.1.1)\n",
      "Installing collected packages: Werkzeug, Jinja2, itsdangerous, click, Flask\n",
      "  Attempting uninstall: Werkzeug\n",
      "    Found existing installation: Werkzeug 2.2.2\n",
      "    Uninstalling Werkzeug-2.2.2:\n",
      "      Successfully uninstalled Werkzeug-2.2.2\n",
      "Successfully installed Flask-1.1.4 Jinja2-2.11.3 Werkzeug-1.0.1 click-7.1.2 itsdangerous-1.1.0\n"
     ]
    }
   ],
   "source": [
    "!pip install Flask==1.1.4"
   ]
  }
 ],
 "metadata": {
  "kernelspec": {
   "display_name": "sandbox",
   "language": "python",
   "name": "python3"
  },
  "language_info": {
   "codemirror_mode": {
    "name": "ipython",
    "version": 3
   },
   "file_extension": ".py",
   "mimetype": "text/x-python",
   "name": "python",
   "nbconvert_exporter": "python",
   "pygments_lexer": "ipython3",
   "version": "3.7.15"
  },
  "orig_nbformat": 4,
  "vscode": {
   "interpreter": {
    "hash": "1e35320bad2f69dde0eb0825a838dcf3ce83abd175e9019a9365d53954fa546c"
   }
  }
 },
 "nbformat": 4,
 "nbformat_minor": 2
}
